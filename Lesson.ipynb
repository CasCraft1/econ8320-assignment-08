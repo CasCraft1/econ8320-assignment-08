import numpy as np
import scipy as sp
import pandas as pd


class RegressionModel(object):
    def __init__(self,xmatrix,ymatrix,create_intercept,regression_type):
        self.xmatrix = np.array(xmatrix)
        self.ymatrix = np.array(ymatrix)
        self.create_intercept = create_intercept
        self.regression_type = regression_type

    def add_intercept(self):
        if self.create_intercept == True:
            rowofones = np.ones([self.xmatrix.shape[0],self.xmatrix.shape[1]])
            newmatrix = np.append(self.xmatrix,rowofones,axis=1)
            self.xmatrix = newmatrix
    def ols_regression(self):
        if self.regression_type== "ols":
            #calculate betas
            firstoperatiion = self.xmatrix.T @ self.xmatrix
            secondoperation = np.linalg.inv(firstoperatiion) @ self.xmatrix.T @ self.ymatrix
            return(secondoperation)

            



